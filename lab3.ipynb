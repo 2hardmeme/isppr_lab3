{
 "cells": [
  {
   "cell_type": "code",
   "execution_count": 1,
   "id": "2a71bcf5-96b8-49da-9643-e20b9889e133",
   "metadata": {
    "tags": []
   },
   "outputs": [],
   "source": [
    "import pandas as pd\n",
    "import numpy as np"
   ]
  },
  {
   "cell_type": "code",
   "execution_count": 2,
   "id": "20458bd5-41b4-48fb-9ec9-7f7e0c362589",
   "metadata": {
    "tags": []
   },
   "outputs": [],
   "source": [
    "X = pd.read_csv('X_task.csv')\n",
    "Y = pd.read_csv('Y_task.csv')\n",
    "Z = pd.read_csv('Z_task.csv', index_col='index')"
   ]
  },
  {
   "cell_type": "code",
   "execution_count": 3,
   "id": "0fb47dd9-166a-42be-aa43-5ffcf3527e1f",
   "metadata": {
    "tags": []
   },
   "outputs": [
    {
     "data": {
      "text/html": [
       "<div>\n",
       "<style scoped>\n",
       "    .dataframe tbody tr th:only-of-type {\n",
       "        vertical-align: middle;\n",
       "    }\n",
       "\n",
       "    .dataframe tbody tr th {\n",
       "        vertical-align: top;\n",
       "    }\n",
       "\n",
       "    .dataframe thead th {\n",
       "        text-align: right;\n",
       "    }\n",
       "</style>\n",
       "<table border=\"1\" class=\"dataframe\">\n",
       "  <thead>\n",
       "    <tr style=\"text-align: right;\">\n",
       "      <th></th>\n",
       "      <th>Х1</th>\n",
       "      <th>Х2</th>\n",
       "      <th>Х3</th>\n",
       "      <th>Х4</th>\n",
       "    </tr>\n",
       "  </thead>\n",
       "  <tbody>\n",
       "    <tr>\n",
       "      <th>0</th>\n",
       "      <td>4.6</td>\n",
       "      <td>18.2</td>\n",
       "      <td>0.33</td>\n",
       "      <td>1.83</td>\n",
       "    </tr>\n",
       "    <tr>\n",
       "      <th>1</th>\n",
       "      <td>4.5</td>\n",
       "      <td>19.3</td>\n",
       "      <td>0.39</td>\n",
       "      <td>1.75</td>\n",
       "    </tr>\n",
       "    <tr>\n",
       "      <th>2</th>\n",
       "      <td>4.1</td>\n",
       "      <td>22.1</td>\n",
       "      <td>0.33</td>\n",
       "      <td>1.81</td>\n",
       "    </tr>\n",
       "    <tr>\n",
       "      <th>3</th>\n",
       "      <td>4.8</td>\n",
       "      <td>17.8</td>\n",
       "      <td>0.38</td>\n",
       "      <td>1.77</td>\n",
       "    </tr>\n",
       "    <tr>\n",
       "      <th>4</th>\n",
       "      <td>4.2</td>\n",
       "      <td>18.5</td>\n",
       "      <td>0.28</td>\n",
       "      <td>1.88</td>\n",
       "    </tr>\n",
       "    <tr>\n",
       "      <th>5</th>\n",
       "      <td>4.6</td>\n",
       "      <td>17.5</td>\n",
       "      <td>0.29</td>\n",
       "      <td>1.88</td>\n",
       "    </tr>\n",
       "    <tr>\n",
       "      <th>6</th>\n",
       "      <td>4.9</td>\n",
       "      <td>19.4</td>\n",
       "      <td>0.37</td>\n",
       "      <td>1.75</td>\n",
       "    </tr>\n",
       "  </tbody>\n",
       "</table>\n",
       "</div>"
      ],
      "text/plain": [
       "    Х1    Х2    Х3    Х4\n",
       "0  4.6  18.2  0.33  1.83\n",
       "1  4.5  19.3  0.39  1.75\n",
       "2  4.1  22.1  0.33  1.81\n",
       "3  4.8  17.8  0.38  1.77\n",
       "4  4.2  18.5  0.28  1.88\n",
       "5  4.6  17.5  0.29  1.88\n",
       "6  4.9  19.4  0.37  1.75"
      ]
     },
     "execution_count": 3,
     "metadata": {},
     "output_type": "execute_result"
    }
   ],
   "source": [
    "X"
   ]
  },
  {
   "cell_type": "code",
   "execution_count": 4,
   "id": "1fe08d34-7fa6-487e-8a7e-57a13dd6d0db",
   "metadata": {
    "tags": []
   },
   "outputs": [
    {
     "data": {
      "text/html": [
       "<div>\n",
       "<style scoped>\n",
       "    .dataframe tbody tr th:only-of-type {\n",
       "        vertical-align: middle;\n",
       "    }\n",
       "\n",
       "    .dataframe tbody tr th {\n",
       "        vertical-align: top;\n",
       "    }\n",
       "\n",
       "    .dataframe thead th {\n",
       "        text-align: right;\n",
       "    }\n",
       "</style>\n",
       "<table border=\"1\" class=\"dataframe\">\n",
       "  <thead>\n",
       "    <tr style=\"text-align: right;\">\n",
       "      <th></th>\n",
       "      <th>Х1</th>\n",
       "      <th>Х2</th>\n",
       "      <th>Х3</th>\n",
       "      <th>Х4</th>\n",
       "    </tr>\n",
       "  </thead>\n",
       "  <tbody>\n",
       "    <tr>\n",
       "      <th>0</th>\n",
       "      <td>4.1</td>\n",
       "      <td>18.5</td>\n",
       "      <td>0.45</td>\n",
       "      <td>1.81</td>\n",
       "    </tr>\n",
       "    <tr>\n",
       "      <th>1</th>\n",
       "      <td>3.9</td>\n",
       "      <td>16.3</td>\n",
       "      <td>0.35</td>\n",
       "      <td>1.75</td>\n",
       "    </tr>\n",
       "    <tr>\n",
       "      <th>2</th>\n",
       "      <td>4.2</td>\n",
       "      <td>19.4</td>\n",
       "      <td>0.41</td>\n",
       "      <td>1.64</td>\n",
       "    </tr>\n",
       "    <tr>\n",
       "      <th>3</th>\n",
       "      <td>3.8</td>\n",
       "      <td>15.4</td>\n",
       "      <td>0.36</td>\n",
       "      <td>1.67</td>\n",
       "    </tr>\n",
       "    <tr>\n",
       "      <th>4</th>\n",
       "      <td>4.2</td>\n",
       "      <td>16.3</td>\n",
       "      <td>0.38</td>\n",
       "      <td>1.79</td>\n",
       "    </tr>\n",
       "    <tr>\n",
       "      <th>5</th>\n",
       "      <td>4.4</td>\n",
       "      <td>18.2</td>\n",
       "      <td>0.37</td>\n",
       "      <td>1.68</td>\n",
       "    </tr>\n",
       "    <tr>\n",
       "      <th>6</th>\n",
       "      <td>3.9</td>\n",
       "      <td>17.4</td>\n",
       "      <td>0.47</td>\n",
       "      <td>1.75</td>\n",
       "    </tr>\n",
       "  </tbody>\n",
       "</table>\n",
       "</div>"
      ],
      "text/plain": [
       "    Х1    Х2    Х3    Х4\n",
       "0  4.1  18.5  0.45  1.81\n",
       "1  3.9  16.3  0.35  1.75\n",
       "2  4.2  19.4  0.41  1.64\n",
       "3  3.8  15.4  0.36  1.67\n",
       "4  4.2  16.3  0.38  1.79\n",
       "5  4.4  18.2  0.37  1.68\n",
       "6  3.9  17.4  0.47  1.75"
      ]
     },
     "execution_count": 4,
     "metadata": {},
     "output_type": "execute_result"
    }
   ],
   "source": [
    "Y"
   ]
  },
  {
   "cell_type": "code",
   "execution_count": 5,
   "id": "a780a6a5-3065-441e-b7fa-211c3e195b9d",
   "metadata": {
    "tags": []
   },
   "outputs": [
    {
     "data": {
      "text/html": [
       "<div>\n",
       "<style scoped>\n",
       "    .dataframe tbody tr th:only-of-type {\n",
       "        vertical-align: middle;\n",
       "    }\n",
       "\n",
       "    .dataframe tbody tr th {\n",
       "        vertical-align: top;\n",
       "    }\n",
       "\n",
       "    .dataframe thead th {\n",
       "        text-align: right;\n",
       "    }\n",
       "</style>\n",
       "<table border=\"1\" class=\"dataframe\">\n",
       "  <thead>\n",
       "    <tr style=\"text-align: right;\">\n",
       "      <th></th>\n",
       "      <th>Х1</th>\n",
       "      <th>Х2</th>\n",
       "      <th>Х3</th>\n",
       "      <th>Х4</th>\n",
       "    </tr>\n",
       "    <tr>\n",
       "      <th>index</th>\n",
       "      <th></th>\n",
       "      <th></th>\n",
       "      <th></th>\n",
       "      <th></th>\n",
       "    </tr>\n",
       "  </thead>\n",
       "  <tbody>\n",
       "    <tr>\n",
       "      <th>z1</th>\n",
       "      <td>4.5</td>\n",
       "      <td>19.2</td>\n",
       "      <td>0.39</td>\n",
       "      <td>1.82</td>\n",
       "    </tr>\n",
       "    <tr>\n",
       "      <th>z2</th>\n",
       "      <td>4.1</td>\n",
       "      <td>19.0</td>\n",
       "      <td>0.42</td>\n",
       "      <td>1.78</td>\n",
       "    </tr>\n",
       "  </tbody>\n",
       "</table>\n",
       "</div>"
      ],
      "text/plain": [
       "        Х1    Х2    Х3    Х4\n",
       "index                       \n",
       "z1     4.5  19.2  0.39  1.82\n",
       "z2     4.1  19.0  0.42  1.78"
      ]
     },
     "execution_count": 5,
     "metadata": {},
     "output_type": "execute_result"
    }
   ],
   "source": [
    "Z"
   ]
  },
  {
   "cell_type": "code",
   "execution_count": 6,
   "id": "9118d6b3-7e3c-4d68-83e4-b61602fe8c6e",
   "metadata": {
    "tags": []
   },
   "outputs": [
    {
     "name": "stdout",
     "output_type": "stream",
     "text": [
      "Sx:\n",
      "[[ 0.07 -0.22  0.01 -0.01]\n",
      " [-0.22  2.06  0.01 -0.02]\n",
      " [ 0.01  0.01  0.   -0.  ]\n",
      " [-0.01 -0.02 -0.    0.  ]]\n",
      "Sy:\n",
      "[[ 0.04  0.16 -0.   -0.  ]\n",
      " [ 0.16  1.75  0.03 -0.01]\n",
      " [-0.    0.03  0.    0.  ]\n",
      " [-0.   -0.01  0.    0.  ]]\n"
     ]
    }
   ],
   "source": [
    "def get_cov_matrix(df):\n",
    "    m = df.values\n",
    "    cols = m.shape[1]\n",
    "    cov_matrix = np.zeros((cols,cols), dtype=np.float32)\n",
    "    \n",
    "    for i in range(cols):\n",
    "        for j in range(cols):\n",
    "            p1 = m[:, i]\n",
    "            p2 = m[:, j]\n",
    "            cov_matrix[i,j] = np.mean((p1 - np.mean(p1))*(p2 - np.mean(p2)))\n",
    "    \n",
    "    return cov_matrix\n",
    "\n",
    "np.set_printoptions(suppress=True)\n",
    "np.set_printoptions(precision=2)\n",
    "\n",
    "Sx = get_cov_matrix(X)\n",
    "Sy = get_cov_matrix(Y)\n",
    "\n",
    "print('Sx:')\n",
    "print(Sx)\n",
    "\n",
    "print('Sy:')\n",
    "print(Sy)\n",
    "    "
   ]
  },
  {
   "cell_type": "code",
   "execution_count": 7,
   "id": "52424fb1-d983-4932-9e76-eeb77972211a",
   "metadata": {
    "tags": []
   },
   "outputs": [
    {
     "name": "stdout",
     "output_type": "stream",
     "text": [
      "S:\n",
      "[[ 0.07 -0.03  0.   -0.  ]\n",
      " [-0.03  2.22  0.02 -0.02]\n",
      " [ 0.    0.02  0.   -0.  ]\n",
      " [-0.   -0.02 -0.    0.  ]]\n"
     ]
    }
   ],
   "source": [
    "S = 1/(len(X) + len(Y) - 2) * (len(X)*Sx + len(Y)*Sy)\n",
    "print('S:')\n",
    "print(S)"
   ]
  },
  {
   "cell_type": "code",
   "execution_count": 8,
   "id": "ce0e7842-58c4-4175-8d90-ca629d1478b9",
   "metadata": {
    "tags": []
   },
   "outputs": [
    {
     "name": "stdout",
     "output_type": "stream",
     "text": [
      "S⁻¹:\n",
      "[[ 18.69359   0.78162 -30.35858  22.91216]\n",
      " [  0.78162   0.55244  -6.35701   2.98406]\n",
      " [-30.35858  -6.35701 628.48804  40.8845 ]\n",
      " [ 22.91216   2.98406  40.8845  327.17673]]\n"
     ]
    }
   ],
   "source": [
    "invS = np.linalg.inv(S)\n",
    "\n",
    "np.set_printoptions(precision=5)\n",
    "print('S⁻¹:')\n",
    "print(invS)"
   ]
  },
  {
   "cell_type": "code",
   "execution_count": 9,
   "id": "d8ed9475-f3ed-4ba9-ade1-9dfc7c2e0256",
   "metadata": {
    "tags": []
   },
   "outputs": [
    {
     "name": "stdout",
     "output_type": "stream",
     "text": [
      "A:\n",
      "[ 13.52735   1.87778 -58.46194  39.94712]\n"
     ]
    }
   ],
   "source": [
    "A = invS@(np.mean(X, axis=0)-np.mean(Y, axis=0))\n",
    "print('A:')\n",
    "print(A)"
   ]
  },
  {
   "cell_type": "code",
   "execution_count": 10,
   "id": "34c492a4-4c42-4e99-85ce-156d2a379395",
   "metadata": {
    "tags": []
   },
   "outputs": [
    {
     "name": "stdout",
     "output_type": "stream",
     "text": [
      "Ux:\n",
      "[150.21223 144.22157 149.97297 146.84666 150.28508 153.23361 150.98953]\n",
      "Uy:\n",
      "[136.19752 132.81029 134.78772 125.98716 136.71252 139.17622 127.86042]\n"
     ]
    }
   ],
   "source": [
    "Ux = X.values@A\n",
    "Uy = Y.values@A\n",
    "\n",
    "print('Ux:')\n",
    "print(Ux)\n",
    "print('Uy:')\n",
    "print(Uy)"
   ]
  },
  {
   "cell_type": "code",
   "execution_count": 11,
   "id": "079351b8-1f0d-42cd-8d73-a2c3be65638d",
   "metadata": {
    "tags": []
   },
   "outputs": [
    {
     "name": "stdout",
     "output_type": "stream",
     "text": [
      "U̅x =  149.39452166444798\n",
      "U̅y =  133.36169285179673\n"
     ]
    }
   ],
   "source": [
    "Ux_mean = np.mean(Ux)\n",
    "Uy_mean = np.mean(Uy)\n",
    "print('U̅x = ', Ux_mean)\n",
    "print('U̅y = ', Uy_mean)"
   ]
  },
  {
   "cell_type": "code",
   "execution_count": 12,
   "id": "c5391851-b33a-491a-baf1-5e80842209a1",
   "metadata": {
    "tags": []
   },
   "outputs": [
    {
     "name": "stdout",
     "output_type": "stream",
     "text": [
      "C = 141.37810725812236\n"
     ]
    }
   ],
   "source": [
    "C = (Ux_mean + Uy_mean)/2\n",
    "print('C =', C)"
   ]
  },
  {
   "cell_type": "code",
   "execution_count": 13,
   "id": "6d4b0fe6-ed79-4368-81e2-1ca4235b3533",
   "metadata": {
    "tags": []
   },
   "outputs": [
    {
     "name": "stdout",
     "output_type": "stream",
     "text": [
      "Uz0 = 146.83009068641644 > 141.37810725812236 - належить до першої (X) вибірки\n",
      "Uz1 = 137.69185269356439 < 141.37810725812236 - належить до другої (Y) вибірки\n"
     ]
    }
   ],
   "source": [
    "strs = ['належить до першої (X) вибірки', 'належить до другої (Y) вибірки']\n",
    "\n",
    "U = Z.values @ A\n",
    "for i in range(len(U)):\n",
    "    Uz = U[i]\n",
    "    \n",
    "    if Uz < C:\n",
    "        if Ux_mean < C:\n",
    "            print(f'Uz{i} = {Uz} < {C} - {strs[0]}' )\n",
    "        else:\n",
    "            print(f'Uz{i} = {Uz} < {C} - {strs[1]}' )\n",
    "    else:\n",
    "        if Ux_mean > C:\n",
    "            print(f'Uz{i} = {Uz} > {C} - {strs[0]}' )\n",
    "        else:\n",
    "            print(f'Uz{i} = {Uz} > {C} - {strs[1]}' )\n",
    "        \n",
    "    \n",
    "    "
   ]
  },
  {
   "cell_type": "code",
   "execution_count": null,
   "id": "d6643fbf-67f6-44f3-a8f6-4c9a6af3cbf8",
   "metadata": {},
   "outputs": [],
   "source": []
  },
  {
   "cell_type": "code",
   "execution_count": null,
   "id": "dfffc113-0be1-45d3-a742-aa19fc266b47",
   "metadata": {},
   "outputs": [],
   "source": []
  }
 ],
 "metadata": {
  "kernelspec": {
   "display_name": "Python 3 (ipykernel)",
   "language": "python",
   "name": "python3"
  },
  "language_info": {
   "codemirror_mode": {
    "name": "ipython",
    "version": 3
   },
   "file_extension": ".py",
   "mimetype": "text/x-python",
   "name": "python",
   "nbconvert_exporter": "python",
   "pygments_lexer": "ipython3",
   "version": "3.12.1"
  }
 },
 "nbformat": 4,
 "nbformat_minor": 5
}
